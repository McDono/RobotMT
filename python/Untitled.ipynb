{
 "cells": [
  {
   "cell_type": "code",
   "execution_count": 35,
   "metadata": {
    "collapsed": true
   },
   "outputs": [],
   "source": [
    "class Stack:\n",
    "    def __init__(self,maxsize):\n",
    "        self.__storage = []\n",
    "        self.maxsize=maxsize\n",
    "\n",
    "    def isEmpty(self):\n",
    "        return len(self.__storage) == 0\n",
    "\n",
    "    def push(self,p):\n",
    "        if len(self.__storage)==self.maxsize:\n",
    "            self.__storage=self.__storage[1:]\n",
    "            self.__storage.append(p)\n",
    "        else:\n",
    "            self.__storage.append(p)\n",
    "\n",
    "    def pop(self):\n",
    "        return self.__storage.pop()"
   ]
  },
  {
   "cell_type": "code",
   "execution_count": 48,
   "metadata": {
    "collapsed": true
   },
   "outputs": [],
   "source": [
    "class Stack:\n",
    "    def __init__(self,maxsize):\n",
    "        self.values = []\n",
    "        self.maxsize=maxsize\n",
    "\n",
    "    def isEmpty(self):\n",
    "        return len(self.values) == 0\n",
    "\n",
    "    def push(self,p):\n",
    "        if len(self.values)==self.maxsize:\n",
    "            self.values=self.values[1:]\n",
    "            self.values.append(p)\n",
    "        else:\n",
    "            self.values.append(p)\n",
    "    def pop(self):\n",
    "        return self.values.pop()"
   ]
  },
  {
   "cell_type": "code",
   "execution_count": 49,
   "metadata": {
    "collapsed": false
   },
   "outputs": [],
   "source": [
    "toto=Stack(3)"
   ]
  },
  {
   "cell_type": "code",
   "execution_count": 50,
   "metadata": {
    "collapsed": true
   },
   "outputs": [],
   "source": [
    "toto.push(0)"
   ]
  },
  {
   "cell_type": "code",
   "execution_count": 51,
   "metadata": {
    "collapsed": false
   },
   "outputs": [
    {
     "data": {
      "text/plain": [
       "<__main__.Stack instance at 0x000000000424D088>"
      ]
     },
     "execution_count": 51,
     "metadata": {},
     "output_type": "execute_result"
    }
   ],
   "source": [
    "toto"
   ]
  },
  {
   "cell_type": "code",
   "execution_count": 106,
   "metadata": {
    "collapsed": true
   },
   "outputs": [],
   "source": [
    "toto=[1,2,3,4]"
   ]
  },
  {
   "cell_type": "code",
   "execution_count": 107,
   "metadata": {
    "collapsed": true
   },
   "outputs": [],
   "source": [
    "toto.append(6)"
   ]
  },
  {
   "cell_type": "code",
   "execution_count": 1,
   "metadata": {
    "collapsed": true
   },
   "outputs": [],
   "source": []
  },
  {
   "cell_type": "code",
   "execution_count": 41,
   "metadata": {
    "collapsed": false
   },
   "outputs": [
    {
     "ename": "NameError",
     "evalue": "name 'toto' is not defined",
     "output_type": "error",
     "traceback": [
      "\u001b[1;31m---------------------------------------------------------------------------\u001b[0m",
      "\u001b[1;31mNameError\u001b[0m                                 Traceback (most recent call last)",
      "\u001b[1;32m<ipython-input-41-11a3e2290843>\u001b[0m in \u001b[0;36m<module>\u001b[1;34m()\u001b[0m\n\u001b[1;32m----> 1\u001b[1;33m \u001b[0mtoto\u001b[0m\u001b[1;33m\u001b[0m\u001b[0m\n\u001b[0m",
      "\u001b[1;31mNameError\u001b[0m: name 'toto' is not defined"
     ]
    }
   ],
   "source": [
    "toto"
   ]
  },
  {
   "cell_type": "code",
   "execution_count": 118,
   "metadata": {
    "collapsed": true
   },
   "outputs": [],
   "source": [
    "maxsize=7\n",
    "def push(self,p):\n",
    "    if len(self)>=maxsize:\n",
    "        self=self[1:]\n",
    "        self.append(p)\n",
    "    else:\n",
    "        self.append(p)\n",
    "    return self"
   ]
  },
  {
   "cell_type": "code",
   "execution_count": 121,
   "metadata": {
    "collapsed": false
   },
   "outputs": [],
   "source": [
    "toto.insert??"
   ]
  },
  {
   "cell_type": "code",
   "execution_count": 132,
   "metadata": {
    "collapsed": false
   },
   "outputs": [],
   "source": [
    "toto.sort??"
   ]
  },
  {
   "cell_type": "code",
   "execution_count": 130,
   "metadata": {
    "collapsed": false
   },
   "outputs": [
    {
     "data": {
      "text/plain": [
       "[4, 4, 6, 0, 0, 3, 4, 3, 3, 3, 3]"
      ]
     },
     "execution_count": 130,
     "metadata": {},
     "output_type": "execute_result"
    }
   ],
   "source": [
    "toto"
   ]
  },
  {
   "cell_type": "code",
   "execution_count": null,
   "metadata": {
    "collapsed": false
   },
   "outputs": [],
   "source": []
  },
  {
   "cell_type": "code",
   "execution_count": 2,
   "metadata": {
    "collapsed": true
   },
   "outputs": [],
   "source": [
    "import pygame\n",
    "from pygame.locals import *\n",
    "\n",
    "\n",
    "pygame.init()\n",
    "\n",
    "#Ouverture de la fenêtre Pygame\n",
    "fenetre = pygame.display.set_mode((600, 400))\n",
    "\n",
    "\n",
    "#Chargement et collage du fond\n",
    "fond = pygame.image.load(\"background.jpg\").convert()\n",
    "fenetre.blit(fond, (0,0))\n",
    "\n",
    "\n",
    "#Chargement et collage du personnage\n",
    "perso = pygame.image.load(\"perso.png\").convert_alpha()\n",
    "position_perso = perso.get_rect()\n",
    "position_perso.x=300\n",
    "position_perso.y=200\n",
    "fenetre.blit(perso, position_perso)\n",
    "\n",
    "BLACK = (  0,   0,   0)\n",
    "pygame.draw.rect(fenetre, BLACK, [75, 10, 50, 20], 2)\n",
    "pygame.draw.rect(fenetre, BLACK, [150, 10, 50, 20])\n",
    "#Rafraîchissement de l'écran\n",
    "pygame.display.flip()\n",
    "\n",
    "\n",
    "\n",
    "#BOUCLE INFINIE\n",
    "pygame.key.set_repeat(400, 30)\n",
    "continuer = 1\n",
    "while continuer==1:\n",
    "    for event in pygame.event.get():\t#Attente des événements\n",
    "        #Limitation de vitesse de la boucle\n",
    "        pygame.time.Clock().tick(30)\n",
    "        if event.type == QUIT:\n",
    "            continuer = 0\n",
    "        if event.type == KEYDOWN:\n",
    "            if event.key == K_DOWN:\n",
    "                position_perso = position_perso.move(0,3)\n",
    "            if event.key == K_UP:\n",
    "                position_perso = position_perso.move(0,-3)\n",
    "            if event.key == K_LEFT:\n",
    "                position_perso = position_perso.move(-3,0)\n",
    "            if event.key == K_RIGHT:\n",
    "                position_perso = position_perso.move(3,0)\n",
    "        if event.type == MOUSEBUTTONDOWN:\n",
    "\n",
    "            if event.button == 1:   #Si clic gauche\n",
    "                #On change les coordonnées du perso\n",
    "                #perso_x =event.pos[0]\n",
    "                #perso_y = event.pos[1]\n",
    "                #position_perso =(perso_x, perso_y)\n",
    "                position_perso.x= event.pos[0]\n",
    "                position_perso.y=event.pos[1]\n",
    "                \n",
    "                \n",
    "                \n",
    "    #Re-collage\n",
    "    fenetre.blit(fond, (0,0))\n",
    "    fenetre.blit(perso, position_perso)\n",
    "    #fenetre.blit(perso, (perso_x, perso_y))\n",
    "    #Rafraichissement\n",
    "    pygame.display.flip()"
   ]
  },
  {
   "cell_type": "code",
   "execution_count": 1,
   "metadata": {
    "collapsed": false
   },
   "outputs": [
    {
     "data": {
      "text/plain": [
       "True"
      ]
     },
     "execution_count": 1,
     "metadata": {},
     "output_type": "execute_result"
    }
   ],
   "source": [
    "2<3<4"
   ]
  },
  {
   "cell_type": "code",
   "execution_count": 1,
   "metadata": {
    "collapsed": true
   },
   "outputs": [],
   "source": [
    "import serial"
   ]
  },
  {
   "cell_type": "code",
   "execution_count": 2,
   "metadata": {
    "collapsed": true
   },
   "outputs": [],
   "source": [
    "ser = serial.Serial()\n",
    "ser.baudrate = 9600\n",
    "ser.port = 14\n",
    "ser.open()"
   ]
  },
  {
   "cell_type": "code",
   "execution_count": 32,
   "metadata": {
    "collapsed": false
   },
   "outputs": [
    {
     "data": {
      "text/plain": [
       "'4.88V1\\t0.00V2\\n'"
      ]
     },
     "execution_count": 32,
     "metadata": {},
     "output_type": "execute_result"
    }
   ],
   "source": []
  },
  {
   "cell_type": "code",
   "execution_count": null,
   "metadata": {
    "collapsed": true
   },
   "outputs": [],
   "source": []
  },
  {
   "cell_type": "code",
   "execution_count": 1,
   "metadata": {
    "collapsed": true
   },
   "outputs": [],
   "source": [
    "import re"
   ]
  },
  {
   "cell_type": "code",
   "execution_count": 41,
   "metadata": {
    "collapsed": true
   },
   "outputs": [],
   "source": [
    "Reg=re.compile(r'.*\\n(?P<V1>[0-5.]{4})V1\\t(?P<V2>[0-5.]{4})V2.*')"
   ]
  },
  {
   "cell_type": "code",
   "execution_count": 42,
   "metadata": {
    "collapsed": true
   },
   "outputs": [],
   "source": [
    "StringList = \"2V2\\n0.00V1\\t0.00V2\\n4\""
   ]
  },
  {
   "cell_type": "code",
   "execution_count": 43,
   "metadata": {
    "collapsed": false
   },
   "outputs": [
    {
     "name": "stdout",
     "output_type": "stream",
     "text": [
      "('0.00', '0.00')\n"
     ]
    }
   ],
   "source": [
    "if Reg.match(StringList):\n",
    "    print Reg.findall(String)[0]"
   ]
  },
  {
   "cell_type": "code",
   "execution_count": null,
   "metadata": {
    "collapsed": true
   },
   "outputs": [],
   "source": []
  },
  {
   "cell_type": "code",
   "execution_count": null,
   "metadata": {
    "collapsed": true
   },
   "outputs": [],
   "source": []
  },
  {
   "cell_type": "raw",
   "metadata": {},
   "source": [
    "Lettres:\n",
    "K_a ... K_z\n",
    "\n",
    "Nombres:\n",
    "K_0 ... K_9\n",
    "\n",
    "Controles:\n",
    "K_TAB\n",
    "K_RETURN\n",
    "K_ESCAPE\n",
    "K_SCROLLOCK\n",
    "K_SYSREQ\n",
    "K_BREAK\n",
    "K_DELETE\n",
    "K_BACKSPACE\n",
    "K_CAPSLOCK\n",
    "K_CLEAR\n",
    "K_NUMLOCK\n",
    "\n",
    "Ponctuation:\n",
    "K_SPACE\n",
    "K_PERIOD\n",
    "K_COMMA\n",
    "K_QUESTION\n",
    "K_AMPERSAND\n",
    "K_ASTERISK\n",
    "K_AT\n",
    "K_CARET\n",
    "K_BACKQUOTE\n",
    "K_DOLLAR\n",
    "K_EQUALS\n",
    "K_EURO\n",
    "K_EXCLAIM\n",
    "K_SLASH, K_BACKSLASH\n",
    "K_COLON, K_SEMICOLON\n",
    "K_QUOTE, K_QUOTEDBL\n",
    "K_MINUS, K_PLUS\n",
    "K_GREATER, K_LESS\n",
    "\n",
    "Parenthèses:\n",
    "K_RIGHTBRACKET, K_LEFTBRACKET\n",
    "K_RIGHTPAREN, K_LEFTPAREN\n",
    "\n",
    "Touches F:\n",
    "K_F1 ... K_F15\n",
    "\n",
    "Touches d'édition:\n",
    "K_HELP\n",
    "K_HOME\n",
    "K_END\n",
    "K_INSERT\n",
    "K_PRINT\n",
    "K_PAGEUP, K_PAGEDOWN\n",
    "K_FIRST, K_LAST\n",
    "\n",
    "Clavier numérique:\n",
    "K_KP0 ... K_KP9\n",
    "K_KP_DIVIDE\n",
    "K_KP_ENTER\n",
    "K_KP_EQUALS\n",
    "K_KP_MINUS\n",
    "K_KP_MULTIPLY\n",
    "K_KP_PERIOD\n",
    "K_KP_PLUS\n",
    "\n",
    "SHF,CTL,ALT etc:\n",
    "K_LALT, K_RALT\n",
    "K_LCTRL, K_RCTRL\n",
    "K_LSUPER, K_RSUPER\n",
    "K_LSHIFT, K_RSHIFT\n",
    "K_RMETA, K_LMETA\n",
    "\n",
    "Flèches:\n",
    "K_LEFT\n",
    "K_UP\n",
    "K_RIGHT\n",
    "K_DOWN\n",
    "\n",
    "Autres:\n",
    "K_MENU\n",
    "K_MODE\n",
    "K_PAUSE\n",
    "K_POWER\n",
    "K_UNDERSCORE\n",
    "K_HASH"
   ]
  },
  {
   "cell_type": "code",
   "execution_count": 3,
   "metadata": {
    "collapsed": false
   },
   "outputs": [
    {
     "data": {
      "text/plain": [
       "<rect(300, 200, 100, 100)>"
      ]
     },
     "execution_count": 3,
     "metadata": {},
     "output_type": "execute_result"
    }
   ],
   "source": []
  },
  {
   "cell_type": "code",
   "execution_count": 2,
   "metadata": {
    "collapsed": false
   },
   "outputs": [
    {
     "data": {
      "text/plain": [
       "0"
      ]
     },
     "execution_count": 2,
     "metadata": {},
     "output_type": "execute_result"
    }
   ],
   "source": []
  },
  {
   "cell_type": "code",
   "execution_count": null,
   "metadata": {
    "collapsed": true
   },
   "outputs": [],
   "source": []
  },
  {
   "cell_type": "code",
   "execution_count": null,
   "metadata": {
    "collapsed": true
   },
   "outputs": [],
   "source": []
  },
  {
   "cell_type": "code",
   "execution_count": null,
   "metadata": {
    "collapsed": true
   },
   "outputs": [],
   "source": [
    "import pygame\n",
    "\n",
    "from pygame.locals import *\n",
    "\n",
    "\n",
    "pygame.init()\n",
    "\n",
    "\n",
    "#Ouverture de la fenêtre Pygame\n",
    "\n",
    "fenetre = pygame.display.set_mode((640, 480))\n",
    "\n",
    "\n",
    "#Chargement et collage du fond\n",
    "\n",
    "fond = pygame.image.load(\"background.jpg\").convert()\n",
    "\n",
    "fenetre.blit(fond, (0,0))\n",
    "\n",
    "\n",
    "#Chargement et collage du personnage\n",
    "perso = pygame.image.load(\"perso.png\").convert_alpha()\n",
    "position_perso = perso.get_rect()\n",
    "position_perso.x=300\n",
    "position_perso.y=200\n",
    "fenetre.blit(perso, position_perso)\n",
    "\n",
    "\n",
    "\n",
    "#Rafraîchissement de l'écran\n",
    "pygame.display.flip()\n",
    "\n",
    "\n",
    "#BOUCLE INFINIE\n",
    "pygame.key.set_repeat(400, 30)\n",
    "continuer = 1\n",
    "while continuer==1:\n",
    "    for event in pygame.event.get():\t#Attente des événements\n",
    "        if event.type == QUIT:\n",
    "            continuer = 0\n",
    "        if event.type == KEYDOWN:\n",
    "            if event.key == K_DOWN:\t#Si \"flèche bas\"\n",
    "                #On descend le perso\n",
    "                position_perso = position_perso.move(0,3)\n",
    "\n",
    "    #Re-collage\n",
    "    fenetre.blit(fond, (0,0))\n",
    "    fenetre.blit(perso, position_perso)\n",
    "    #Rafraichissement\n",
    "    pygame.display.flip()"
   ]
  },
  {
   "cell_type": "code",
   "execution_count": null,
   "metadata": {
    "collapsed": true
   },
   "outputs": [],
   "source": []
  },
  {
   "cell_type": "code",
   "execution_count": null,
   "metadata": {
    "collapsed": true
   },
   "outputs": [],
   "source": []
  },
  {
   "cell_type": "code",
   "execution_count": null,
   "metadata": {
    "collapsed": true
   },
   "outputs": [],
   "source": [
    "int()"
   ]
  },
  {
   "cell_type": "code",
   "execution_count": null,
   "metadata": {
    "collapsed": true
   },
   "outputs": [],
   "source": []
  },
  {
   "cell_type": "code",
   "execution_count": null,
   "metadata": {
    "collapsed": true
   },
   "outputs": [],
   "source": []
  },
  {
   "cell_type": "code",
   "execution_count": 1,
   "metadata": {
    "collapsed": true
   },
   "outputs": [],
   "source": [
    "a=1"
   ]
  },
  {
   "cell_type": "code",
   "execution_count": 2,
   "metadata": {
    "collapsed": true
   },
   "outputs": [],
   "source": [
    "a+=1"
   ]
  },
  {
   "cell_type": "code",
   "execution_count": 3,
   "metadata": {
    "collapsed": false
   },
   "outputs": [
    {
     "data": {
      "text/plain": [
       "2"
      ]
     },
     "execution_count": 3,
     "metadata": {},
     "output_type": "execute_result"
    }
   ],
   "source": [
    "a"
   ]
  },
  {
   "cell_type": "code",
   "execution_count": 1,
   "metadata": {
    "collapsed": false
   },
   "outputs": [
    {
     "name": "stdout",
     "output_type": "stream",
     "text": [
      "\n",
      "\n",
      "\n",
      "\n",
      "\n",
      "\n",
      "\n",
      "\n",
      "\n",
      "\n",
      "\n",
      "\n",
      "\n",
      "\n",
      "\n",
      "\n",
      "\n",
      "\n",
      "\n",
      "\n",
      "\n",
      "\n",
      "\n",
      "\n",
      "\n",
      "\n",
      "\n",
      "\n",
      "\n",
      "\n",
      "\n",
      "\n",
      "\n",
      "\n",
      "\n",
      "\n",
      "\n",
      "\n"
     ]
    }
   ],
   "source": [
    "import pygame\n",
    "from pygame.locals import *\n",
    "import serial\n",
    "\n",
    "\n",
    "#ser = serial.Serial()\n",
    "#ser.baudrate = 9600\n",
    "#ser.port = 15\n",
    "\n",
    "\n",
    "Size_x=600\n",
    "Size_y=400\n",
    "\n",
    "SizeBall_x=90\n",
    "SizeBall_y=100\n",
    "\n",
    "SizeBarre_x=10\n",
    "SizeBarre_y=100\n",
    "\n",
    "FaidD=0\n",
    "FaidG=0\n",
    "\n",
    "class Ball():\n",
    "    def __init__(self):\n",
    "        self.AvAr=1\n",
    "        self.HaBb=1\n",
    "        self.Speed_x=3\n",
    "        self.Speed_y=3\n",
    "        self.Pos_x=300\n",
    "        self.Pos_y=200\n",
    "    def updatePos(self,BarG,BarD):\n",
    "        self.Pos_x += self.Speed_x\n",
    "        self.Pos_y += self.Speed_y\n",
    "        \n",
    "        if BarG.testRebond(self.Pos_x,self.Pos_y) or BarD.testRebond(self.Pos_x+SizeBall_x,self.Pos_y):\n",
    "            self.Speed_x = -self.Speed_x\n",
    "            \n",
    "        if (self.Pos_y>=Size_y-SizeBall_y) or (self.Pos_y<=0) :\n",
    "            self.Speed_y=-self.Speed_y\n",
    "        if (self.Pos_x>=Size_x) :\n",
    "            FaidD += 1\n",
    "            String=\"FaidD\\t%s\\n\" % (FaidD)\n",
    "            print String\n",
    "            #ser.write(String)\n",
    "            self.Speed_x = -self.Speed_x\n",
    "        if  (self.Pos_x<=-SizeBall_y) :\n",
    "            FaidG += 1\n",
    "            String=\"FaidG\\t%s\\n\" % (FaidG)\n",
    "            print String\n",
    "            #ser.write(String)\n",
    "            self.Speed_x = -self.Speed_x\n",
    "\n",
    "class Barre():\n",
    "    def __init__(self,Pos_x):\n",
    "        self.Speed_y=0\n",
    "        self.Pos_x=Pos_x\n",
    "        self.Pos_y=(Size_y-SizeBarre_y)/2\n",
    "    def updatePos(self,Val):\n",
    "        self.Speed_y = self.Pos_y - Val\n",
    "        self.Pos_y = Val\n",
    "    def testRebond(self,x,y):\n",
    "        return (self.Pos_y<=y) and (y<=(self.Pos_y+SizeBarre_y)) and (self.Pos_x<=x) and (x<=(self.Pos_x+SizeBarre_x))\n",
    "\n",
    "\n",
    "ball=Ball()\n",
    "\n",
    "BarreD=Barre(Size_x-60)\n",
    "BarreG=Barre(60)\n",
    "\n",
    "\n",
    "pygame.init()\n",
    "\n",
    "#Ouverture de la fenêtre Pygame\n",
    "fenetre = pygame.display.set_mode((Size_x, Size_y))\n",
    "\n",
    "\n",
    "#Chargement et collage du fond\n",
    "fond = pygame.image.load(\"background.jpg\").convert()\n",
    "fenetre.blit(fond, (0,0))\n",
    "\n",
    "\n",
    "#Chargement et collage du personnage\n",
    "perso = pygame.image.load(\"perso.png\").convert_alpha()\n",
    "position_perso = perso.get_rect()\n",
    "position_perso.x=ball.Pos_x\n",
    "position_perso.y=ball.Pos_y\n",
    "fenetre.blit(perso, position_perso)\n",
    "\n",
    "BLACK = (  0,   0,   0)\n",
    "pygame.draw.rect(fenetre, BLACK, [BarreD.Pos_x, BarreD.Pos_y, SizeBarre_x, SizeBarre_y])\n",
    "pygame.draw.rect(fenetre, BLACK, [BarreG.Pos_x, BarreG.Pos_x, SizeBarre_x, SizeBarre_y])\n",
    "#Rafraîchissement de l'écran\n",
    "pygame.display.flip()\n",
    "\n",
    "\n",
    "\n",
    "\n",
    "\n",
    "\n",
    "#BOUCLE INFINIE\n",
    "pygame.key.set_repeat(400, 30)\n",
    "continuer = 1\n",
    "while continuer==1:\n",
    "    pygame.time.Clock().tick(30)\n",
    "    for event in pygame.event.get():\t#Attente des événements\n",
    "        #Limitation de vitesse de la boucle\n",
    "        print \n",
    "        \n",
    "        if event.type == QUIT:\n",
    "            continuer = 0\n",
    "        \n",
    "        if event.type == MOUSEBUTTONDOWN:\n",
    "            if event.button == 1:   #Si clic gauche\n",
    "                BarreD.updatePos(event.pos[1])\n",
    "                \n",
    "    ball.updatePos(BarreG,BarreD)\n",
    "    #Re-collage\n",
    "    fenetre.blit(fond, (0,0))\n",
    "    fenetre.blit(perso, (ball.Pos_x, ball.Pos_y))\n",
    "    pygame.draw.rect(fenetre, BLACK, [BarreD.Pos_x, BarreD.Pos_y, SizeBarre_x, SizeBarre_y])\n",
    "    pygame.draw.rect(fenetre, BLACK, [BarreG.Pos_x, BarreG.Pos_y, SizeBarre_x, SizeBarre_y])\n",
    "    pygame.draw.rect(fenetre, BLACK, [ball.Pos_x, ball.Pos_y, SizeBall_x, SizeBall_y],2)\n",
    "    #Rafraichissement\n",
    "    pygame.display.flip()"
   ]
  },
  {
   "cell_type": "code",
   "execution_count": null,
   "metadata": {
    "collapsed": true
   },
   "outputs": [],
   "source": []
  },
  {
   "cell_type": "code",
   "execution_count": null,
   "metadata": {
    "collapsed": true
   },
   "outputs": [],
   "source": []
  }
 ],
 "metadata": {
  "kernelspec": {
   "display_name": "Python 2",
   "language": "python",
   "name": "python2"
  },
  "language_info": {
   "codemirror_mode": {
    "name": "ipython",
    "version": 2
   },
   "file_extension": ".py",
   "mimetype": "text/x-python",
   "name": "python",
   "nbconvert_exporter": "python",
   "pygments_lexer": "ipython2",
   "version": "2.7.9"
  }
 },
 "nbformat": 4,
 "nbformat_minor": 0
}
