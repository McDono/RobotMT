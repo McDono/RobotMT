{
 "cells": [
  {
   "cell_type": "markdown",
   "metadata": {},
   "source": [
    "# Fiche de test des fonctions de astar_panda.py"
   ]
  },
  {
   "cell_type": "markdown",
   "metadata": {},
   "source": [
    "Il s'agit d'une implémentation de l'algorithme astar avec la libairie de traitement de donnée pandas\n",
    "\n",
    "Ces fonction ne sont pas fonctionnelle. Un travail de développement est nécessaire. Deplus une comparaison des fonctionnalités et des performances devra être effectué par rapport au astar déjà implémenté."
   ]
  },
  {
   "cell_type": "code",
   "execution_count": null,
   "metadata": {},
   "outputs": [],
   "source": [
    "import pandas as pd\n",
    "import numpy as np\n",
    "from astar_panda import *"
   ]
  },
  {
   "cell_type": "code",
   "execution_count": null,
   "metadata": {},
   "outputs": [],
   "source": [
    "carte=pd.DataFrame({ 'X' : [1,2,3,4,1,2,3,4,1,2,3,4,1,2,3,4] , 'Y' : [1,1,1,1,2,2,2,2,3,3,3,3,4,4,4,4]})\n",
    "carte['Noeud']=''\n",
    "#data['X_init']=1\n",
    "#data['Y_init']=1\n",
    "#data['X_fin']=3\n",
    "#data['Y_fin']=4\n",
    "carte['F']=np.inf\n",
    "carte['G']=np.inf\n",
    "carte['idParent']=np.nan\n",
    "#\n",
    "start=[1,1]\n",
    "fin=[4,4]\n",
    "carte.head()"
   ]
  },
  {
   "cell_type": "code",
   "execution_count": null,
   "metadata": {},
   "outputs": [],
   "source": [
    "carte=astar_pathfind(carte,start,fin)"
   ]
  },
  {
   "cell_type": "code",
   "execution_count": null,
   "metadata": {},
   "outputs": [],
   "source": [
    "carte"
   ]
  },
  {
   "cell_type": "code",
   "execution_count": null,
   "metadata": {},
   "outputs": [],
   "source": [
    "X_current=carte['X'][id_current]\n",
    "Y_current=carte['Y'][id_current]\n",
    "G_current=carte['G'][id_current]\n",
    "carte.set_value(id_current, 'Noeud', 'close')\n",
    "id_current=distance(carte,id_current,X_current,Y_current,G_current)\n",
    "carte"
   ]
  },
  {
   "cell_type": "code",
   "execution_count": null,
   "metadata": {},
   "outputs": [],
   "source": [
    "id_current"
   ]
  },
  {
   "cell_type": "code",
   "execution_count": null,
   "metadata": {},
   "outputs": [],
   "source": [
    "X_current=carte['X'][id_current]\n",
    "Y_current=carte['Y'][id_current]\n",
    "G_current=carte['G'][id_current]\n",
    "carte.set_value(id_current, 'Noeud', 'close')\n",
    "id_current=distance(carte,id_current,X_current,Y_current,G_current)\n",
    "carte"
   ]
  },
  {
   "cell_type": "code",
   "execution_count": null,
   "metadata": {},
   "outputs": [],
   "source": [
    "id_current"
   ]
  },
  {
   "cell_type": "code",
   "execution_count": null,
   "metadata": {},
   "outputs": [],
   "source": [
    "id_current=distance(data,X_current,Y_current,F_current,id_current)\n",
    "data.head()"
   ]
  },
  {
   "cell_type": "code",
   "execution_count": null,
   "metadata": {},
   "outputs": [],
   "source": [
    "X_current=data['X'][id_current]\n",
    "Y_current=data['Y'][id_current]\n",
    "F_current=data['F'][id_current]\n",
    "id_current=distance(data,X_current,Y_current,F_current,id_current)\n",
    "data\n"
   ]
  },
  {
   "cell_type": "code",
   "execution_count": null,
   "metadata": {},
   "outputs": [],
   "source": []
  },
  {
   "cell_type": "code",
   "execution_count": null,
   "metadata": {},
   "outputs": [],
   "source": [
    "G_current=3\n",
    "X_fin=4\n",
    "Y_fin=4\n",
    "\n",
    "\n",
    "def distance(data):\n",
    "    data['G']=1+G_current\n",
    "    #H=sqrt((data.X-X_fin)**2+(data.Y-Y_fin)**2)\n",
    "    H=2\n",
    "    F=H+G\n",
    "    return pd.Series({\"G\":G,\"H\":H, \"F\":F})\n",
    "\n",
    "def CalcSetSwitch(data):\n",
    "    \"\"\"\n",
    "    Fonction de calcul des grandeurs de switch du set\n",
    "    \n",
    "    \"\"\"\n",
    "    V=data.VTOP.values\n",
    "    I=data.ITOP.values\n",
    "    dI=np.zeros_like(I)\n",
    "    for i in range(2,len(I)-1):\n",
    "        dI[i]=(I[i+1]-I[i-1])/(V[i+1]-V[i-1])\n",
    "    dI=pd.Series(dI,index=data.index)\n",
    "    Vset=data.VTOP[dI.idxmax()]\n",
    "    Ic=data.ITOP.max()\n",
    "    return {\"Vset\":Vset,\"Ic\":Ic}\n"
   ]
  },
  {
   "cell_type": "code",
   "execution_count": null,
   "metadata": {},
   "outputs": [],
   "source": [
    "G_current=3\n",
    "X_fin=4\n",
    "Y_fin=4\n",
    "\n",
    "\n",
    "\n",
    "\n",
    "voisin"
   ]
  },
  {
   "cell_type": "code",
   "execution_count": null,
   "metadata": {},
   "outputs": [],
   "source": [
    "data=pd.DataFrame({ 'X,Y' : [[1,1],[2,1],[3,1],[4,1],[1,2],[2,2],[3,2],[4,2],[1,3],[2,3],[3,3],[4,3]] , 'list' : np.nan })\n",
    "data.head()"
   ]
  },
  {
   "cell_type": "code",
   "execution_count": null,
   "metadata": {},
   "outputs": [],
   "source": [
    "voisin=data[(data[\"X,Y\"][0]<=3+1)]\n",
    "voisin.head()"
   ]
  },
  {
   "cell_type": "code",
   "execution_count": null,
   "metadata": {},
   "outputs": [],
   "source": [
    "voisin=(data.X<=X_current+1)&(data.X>=X_current-1)&(data.Y<=Y_current+1)&(data.Y>=Y_current-1)\n",
    "data[voisin]['G']=1+0\n",
    "voisin['H']=sqrt((voisin.X-voisin.X_fin)**2+(voisin.Y-voisin.Y_fin)**2)\n",
    "voisin['F']=voisin['H']+voisin['G']\n",
    "voisin['Noeud']='open'\n",
    "data['G']=voisin['G']\n",
    "data['H']=voisin['H']\n",
    "data['F']=voisin['F']\n",
    "data['Noeud']=voisin['Noeud']"
   ]
  }
 ],
 "metadata": {
  "kernelspec": {
   "display_name": "Python 3",
   "language": "python",
   "name": "python3"
  },
  "language_info": {
   "codemirror_mode": {
    "name": "ipython",
    "version": 3
   },
   "file_extension": ".py",
   "mimetype": "text/x-python",
   "name": "python",
   "nbconvert_exporter": "python",
   "pygments_lexer": "ipython3",
   "version": "3.6.3"
  }
 },
 "nbformat": 4,
 "nbformat_minor": 1
}
