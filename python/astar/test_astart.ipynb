{
 "cells": [
  {
   "cell_type": "markdown",
   "metadata": {},
   "source": [
    "# Fiche de test de la class Pathfinder de astar.py"
   ]
  },
  {
   "cell_type": "code",
   "execution_count": null,
   "metadata": {
    "collapsed": true
   },
   "outputs": [],
   "source": [
    "import numpy as np\n",
    "import matplotlib.pyplot as plt\n",
    "import time\n",
    "from scipy.constants import pi\n",
    "from astar import *\n",
    "%matplotlib inline"
   ]
  },
  {
   "cell_type": "markdown",
   "metadata": {},
   "source": [
    "## Paramètre de la Map"
   ]
  },
  {
   "cell_type": "code",
   "execution_count": null,
   "metadata": {
    "collapsed": true
   },
   "outputs": [],
   "source": [
    "x_max=3000.0\n",
    "y_max=2000.0\n",
    "nb_x=60\n",
    "nb_y=40\n",
    "\n",
    "DistanceObstacleMin=200.0\n",
    "DistanceObstacleMax=500.0"
   ]
  },
  {
   "cell_type": "markdown",
   "metadata": {},
   "source": [
    "## Création de la Map"
   ]
  },
  {
   "cell_type": "code",
   "execution_count": null,
   "metadata": {
    "collapsed": true
   },
   "outputs": [],
   "source": [
    "Map=Pathfinder(x_max, y_max, nb_x, nb_y, DistanceObstacleMin, DistanceObstacleMax)"
   ]
  },
  {
   "cell_type": "code",
   "execution_count": null,
   "metadata": {
    "collapsed": true
   },
   "outputs": [],
   "source": [
    "Map.iObsMax_x"
   ]
  },
  {
   "cell_type": "code",
   "execution_count": null,
   "metadata": {
    "collapsed": true
   },
   "outputs": [],
   "source": [
    "%%timeit\n",
    "Map=Pathfinder(x_max, y_max, nb_x, nb_y, DistanceObstacleMin, DistanceObstacleMax)\n",
    "#Etude du temps de creation de la map"
   ]
  },
  {
   "cell_type": "markdown",
   "metadata": {},
   "source": [
    "## Rajoute d'obstable sur la Map"
   ]
  },
  {
   "cell_type": "code",
   "execution_count": null,
   "metadata": {
    "collapsed": true
   },
   "outputs": [],
   "source": [
    "Map.addObstacle(700.0,1000.0)\n",
    "Map.addObstacle(1500.0,1000.0)\n",
    "Map.addObstacle(1700.0,1000.0)\n",
    "Map.addObstacle(2000.0,1000.0)\n",
    "Map.addObstacle(2300.0,1000.0)\n",
    "Map.addObstacle(2600.0,1000.0)\n",
    "Map.addObstacle(1600.0,1000.0)\n",
    "Map.addObstacle(1400.0,1000.0)\n",
    "Obs=Map.getTable()\n",
    "plt.pcolor(Map.X,Map.Y,Obs.T)\n",
    "Obs[np.where(Obs<DistanceObstacleMin)]=0"
   ]
  },
  {
   "cell_type": "markdown",
   "metadata": {},
   "source": [
    "## PathFinding"
   ]
  },
  {
   "cell_type": "markdown",
   "metadata": {},
   "source": [
    "### Départ - Arrivé"
   ]
  },
  {
   "cell_type": "code",
   "execution_count": null,
   "metadata": {
    "collapsed": true
   },
   "outputs": [],
   "source": [
    "x_start = 0.0#readFloat(ser,\"XrR?\")\n",
    "y_start = 0.0#readFloat(ser,\"YrR?\")\n",
    "ang_start=0\n",
    "x_fin = 1500.0\n",
    "y_fin = 2000.0-y_max/nb_y\n",
    "VtsMax=50.0\n",
    "VtsAng=1.0"
   ]
  },
  {
   "cell_type": "markdown",
   "metadata": {},
   "source": [
    "### Calcul du plus court Chemin"
   ]
  },
  {
   "cell_type": "code",
   "execution_count": null,
   "metadata": {
    "collapsed": true
   },
   "outputs": [],
   "source": [
    "Map.clean()\n",
    "NodeFin = Map.pathfinding(x_start,y_start,ang_start,x_fin,y_fin,VtsMax,VtsAng)\n",
    "TableX=[]\n",
    "TableY=[]\n",
    "TableAng=[]\n",
    "TableTpsTrajet=[]\n",
    "TableObs=[]\n",
    "NodeFin.getParcours(TableX,TableY,TableAng,TableTpsTrajet,TableObs)"
   ]
  },
  {
   "cell_type": "code",
   "execution_count": null,
   "metadata": {
    "collapsed": true
   },
   "outputs": [],
   "source": [
    "%%timeit\n",
    "Map.clean()\n",
    "NodeFin = Map.pathfinding(x_start,y_start,ang_start,x_fin,y_fin,VtsMax,VtsAng)\n",
    "#Etude du temps de pathfinding"
   ]
  },
  {
   "cell_type": "code",
   "execution_count": null,
   "metadata": {
    "collapsed": true
   },
   "outputs": [],
   "source": [
    "#TableX"
   ]
  },
  {
   "cell_type": "markdown",
   "metadata": {},
   "source": [
    "### Tracé"
   ]
  },
  {
   "cell_type": "code",
   "execution_count": null,
   "metadata": {
    "collapsed": true
   },
   "outputs": [],
   "source": [
    "plt.pcolor(Map.X,Map.Y,Obs.T)\n",
    "plt.colorbar()\n",
    "x_p=np.array(TableX)\n",
    "y_p=np.array(TableY)\n",
    "plt.plot(x_p, y_p)\n",
    "plt.colorbar()\n",
    "plt.ylabel('x')\n",
    "plt.xlabel('y')\n",
    "plt.grid(True)\n",
    "plt.ylim((0,2000.0))\n",
    "plt.xlim((0,3000.0))\n",
    "plt.show()"
   ]
  },
  {
   "cell_type": "markdown",
   "metadata": {},
   "source": [
    "### Identification des points anguleux pour la determination du trajet"
   ]
  },
  {
   "cell_type": "code",
   "execution_count": null,
   "metadata": {
    "collapsed": true
   },
   "outputs": [],
   "source": [
    "Vmax=500\n",
    "wait=0"
   ]
  },
  {
   "cell_type": "code",
   "execution_count": null,
   "metadata": {
    "collapsed": true
   },
   "outputs": [],
   "source": []
  },
  {
   "cell_type": "code",
   "execution_count": null,
   "metadata": {
    "collapsed": true
   },
   "outputs": [],
   "source": [
    "DeltaAng=np.convolve(TableAng,[1,-1],mode=\"same\")\n",
    "PointAnguleux=np.where((DeltaAng>=pi/4.0)|(DeltaAng<=-pi/4.0))\n",
    "PointAnguleux=PointAnguleux[0]\n",
    "j=0\n",
    "NbPt=len(PointAnguleux)*2\n",
    "for i in PointAnguleux:\n",
    "    String=\"PstCons %s 0 %.4s %s %s %s 4 %s 0.1 10.0 10.0 \\n\" % (NbPt, TableAng[i], TableX[i], TableY[i],Vmax, wait)\n",
    "    #ser.write(String) # pour un envoie de la chaine de caratères sur par port COM\n",
    "    print(String[:-1])\n",
    "    j=j+1\n",
    "    String=\"PstCons %s 0 %.4s %s %s %s 3 %s 0.05 100.0 100.0 \\n\" % (NbPt, TableAng[i], TableX[i], TableY[i],Vmax, wait)\n",
    "    #ser.write(String) # pour un envoie de la chaine de caratères sur par port COM\n",
    "    print(String[:-1])\n",
    "    j=j+1\n",
    "#ser.write(\"Restart \\n\") # Ordre de demarrage à la carte de propultion\n",
    "#ser.close()"
   ]
  },
  {
   "cell_type": "code",
   "execution_count": null,
   "metadata": {
    "collapsed": true
   },
   "outputs": [],
   "source": [
    "DeltaAng=np.convolve(TableAng,[1,-1],mode=\"same\")\n",
    "PointAnguleux=np.where((DeltaAng>=pi/4.0)|(DeltaAng<=-pi/4.0))\n",
    "PointAnguleux=PointAnguleux[0]\n",
    "j=0\n",
    "\n",
    "for i in PointAnguleux:\n",
    "    String=\"TuRn %.4s %s %s %s \\n\" % (j, TableAng[i],Vmax,wait)\n",
    "    #ser.write(String) # pour un envoie de la chaine de caratères sur par port COM\n",
    "    print(String[:-1])\n",
    "    j=j+1\n",
    "    String=\"GoTo %s %s %s %s %s \\n\" % (j, TableX[i], TableY[i],Vmax,wait)\n",
    "    #ser.write(String) # pour un envoie de la chaine de caratères sur par port COM\n",
    "    print(String[:-1])\n",
    "    j=j+1\n",
    "String=\"TuRn %.4s %s %s %s \\n\" % (j, TableAng[i],Vmax,wait)\n",
    "#ser.write(String) # pour un envoie de la chaine de caratères sur par port COM\n",
    "print(String[:-1])\n",
    "#ser.write(\"Restart \\n\") # Ordre de demarrage à la carte de propultion\n",
    "#ser.close()"
   ]
  },
  {
   "cell_type": "code",
   "execution_count": null,
   "metadata": {
    "collapsed": true
   },
   "outputs": [],
   "source": [
    "DeltaAng=np.convolve(TableAng,[1,-1],mode=\"same\")\n",
    "PointAnguleux=np.where((DeltaAng>=pi/4.0)|(DeltaAng<=-pi/4.0))\n",
    "j=0\n",
    "for i in PointAnguleux[0]:\n",
    "    String=\"GoTo %s %s %s %s %s \\n\" % (j, TableX[i], TableY[i],Vmax,wait)\n",
    "    #ser.write(String)\n",
    "    print(String[:-1])\n",
    "    j=j+1\n",
    "    String=\"TuRn %s %s %s %s \\n\" % (j, TableAng[i],Vmax,wait)\n",
    "    #ser.write(String)\n",
    "    print(String[:-1])\n",
    "    j=j+1\n",
    "#ser.write(\"Restart \\n\")\n",
    "#ser.close()"
   ]
  },
  {
   "cell_type": "markdown",
   "metadata": {},
   "source": [
    "## Séparation de map : une fixe et une mobile qui pourrait être alimenté pour les capteurs"
   ]
  },
  {
   "cell_type": "markdown",
   "metadata": {},
   "source": [
    "### Suppression de tous les obstacles de la Map astar"
   ]
  },
  {
   "cell_type": "code",
   "execution_count": null,
   "metadata": {
    "collapsed": true
   },
   "outputs": [],
   "source": [
    "Map.dellObstacle() # Suppression des obstacles\n",
    "Obs=Map.getTable() # récupération de la carte d'obsetacle pour vérification pour affichage\n",
    "plt.pcolor(Map.X,Map.Y,Obs.T)\n",
    "plt.colorbar()\n",
    "Obs[np.where(Obs<DistanceObstacleMin)]=0"
   ]
  },
  {
   "cell_type": "markdown",
   "metadata": {},
   "source": [
    "### Importation de la map d'obstacle Fixe"
   ]
  },
  {
   "cell_type": "code",
   "execution_count": null,
   "metadata": {
    "collapsed": true
   },
   "outputs": [],
   "source": [
    "from PIL.Image import *"
   ]
  },
  {
   "cell_type": "code",
   "execution_count": null,
   "metadata": {
    "collapsed": true
   },
   "outputs": [],
   "source": [
    "imag=open(\"MapObs.png\")\n",
    "ObsMapFixe=np.zeros((nb_x,nb_y))+DistanceObstacleMax\n",
    "for iy_obs in range(nb_y):\n",
    "    for ix_obs in range(nb_x):\n",
    "        if imag.getpixel((ix_obs, iy_obs)) == (0,0,0):\n",
    "            for j in range(-Map.iObsMax_y,Map.iObsMax_y):\n",
    "                for i in range(-Map.iObsMax_x,Map.iObsMax_x):\n",
    "                    iy=iy_obs+j\n",
    "                    ix=ix_obs+i\n",
    "                    if (0<=ix<Map.nb_x) & (0<=iy<Map.nb_y):\n",
    "                        NewDist = sqrt((ix-ix_obs)**2*Map.delta_x**2+(iy-iy_obs)**2*Map.delta_y**2)\n",
    "                        if NewDist < ObsMapFixe[ix,iy]:\n",
    "                            ObsMapFixe[ix,iy] = NewDist\n",
    "ObsMapFixe[np.where(ObsMapFixe<DistanceObstacleMin)]=0\n",
    "plt.pcolor(ObsMapFixe.T)"
   ]
  },
  {
   "cell_type": "code",
   "execution_count": null,
   "metadata": {
    "collapsed": true
   },
   "outputs": [],
   "source": [
    "ObsMapFixe"
   ]
  },
  {
   "cell_type": "markdown",
   "metadata": {},
   "source": [
    "### Création d'une carte d'obstable mobile, versatile"
   ]
  },
  {
   "cell_type": "code",
   "execution_count": null,
   "metadata": {
    "collapsed": true
   },
   "outputs": [],
   "source": [
    "ObsMapMob=np.zeros((nb_x,nb_y))+DistanceObstacleMax\n",
    "\n",
    "x_obs=700.0\n",
    "y_obs=1000.0\n",
    "\n",
    "\n",
    "\n",
    "ix_obs = int (x_obs/Map.delta_x)\n",
    "iy_obs = int (y_obs/Map.delta_y)\n",
    "for j in range(-Map.iObsMax_y,Map.iObsMax_y):\n",
    "    for i in range(-Map.iObsMax_x,Map.iObsMax_x):\n",
    "        iy=iy_obs+j\n",
    "        ix=ix_obs+i\n",
    "        if (0<=ix<Map.nb_x) & (0<=iy<Map.nb_y):\n",
    "            NewDist = sqrt((ix-ix_obs)**2*Map.delta_x**2+(iy-iy_obs)**2*Map.delta_y**2)\n",
    "            if NewDist < ObsMapMob[ix,iy]:\n",
    "                ObsMapMob[ix,iy] = NewDist\n",
    "#ObsMapMob[np.where(ObsMapMob<DistanceObstacleMin)]=0\n",
    "plt.pcolor(ObsMapMob.T)"
   ]
  },
  {
   "cell_type": "markdown",
   "metadata": {},
   "source": [
    "### Fusion des deux cartes"
   ]
  },
  {
   "cell_type": "code",
   "execution_count": null,
   "metadata": {
    "collapsed": true
   },
   "outputs": [],
   "source": [
    "ObsMap=np.minimum(ObsMapMob,ObsMapFixe)\n",
    "plt.pcolor(ObsMap.T)\n",
    "plt.colorbar()"
   ]
  },
  {
   "cell_type": "markdown",
   "metadata": {},
   "source": [
    "### Ajout de de la carte comme obstacles à la Map astar"
   ]
  },
  {
   "cell_type": "code",
   "execution_count": null,
   "metadata": {
    "collapsed": true
   },
   "outputs": [],
   "source": [
    "Map.setObstacle(ObsMap)\n",
    "Obs=Map.getTable()\n",
    "Obs[np.where(Obs<DistanceObstacleMin)]=0\n",
    "plt.pcolor(Map.X,Map.Y,Obs.T)\n",
    "plt.colorbar()"
   ]
  },
  {
   "cell_type": "markdown",
   "metadata": {},
   "source": [
    "### PathFinding"
   ]
  },
  {
   "cell_type": "markdown",
   "metadata": {},
   "source": [
    "#### Départ - Arrivé"
   ]
  },
  {
   "cell_type": "code",
   "execution_count": null,
   "metadata": {
    "collapsed": true
   },
   "outputs": [],
   "source": [
    "x_start = 500.0#readFloat(ser,\"XrR?\")\n",
    "y_start = 1700.0#readFloat(ser,\"YrR?\")\n",
    "ang_start=0\n",
    "x_fin = 2700.0\n",
    "y_fin = 1300.0-y_max/nb_y\n",
    "VtsMax=50.0\n",
    "VtsAng=.05"
   ]
  },
  {
   "cell_type": "markdown",
   "metadata": {},
   "source": [
    "#### Calcul du plus court Chemin"
   ]
  },
  {
   "cell_type": "code",
   "execution_count": null,
   "metadata": {
    "collapsed": true
   },
   "outputs": [],
   "source": [
    "Map.clean()\n",
    "NodeFin = Map.pathfinding(x_start,y_start,ang_start,x_fin,y_fin,VtsMax,VtsAng)\n",
    "TableX=[]\n",
    "TableY=[]\n",
    "TableAng=[]\n",
    "TableTpsTrajet=[]\n",
    "TableObs=[]\n",
    "NodeFin.getParcours(TableX,TableY,TableAng,TableTpsTrajet,TableObs)"
   ]
  },
  {
   "cell_type": "code",
   "execution_count": null,
   "metadata": {
    "collapsed": true
   },
   "outputs": [],
   "source": [
    "%%timeit\n",
    "Map.clean()\n",
    "NodeFin = Map.pathfinding(x_start,y_start,ang_start,x_fin,y_fin,VtsMax,VtsAng)\n",
    "#Etude du temps de pathfinding"
   ]
  },
  {
   "cell_type": "markdown",
   "metadata": {},
   "source": [
    "#### Tracé"
   ]
  },
  {
   "cell_type": "code",
   "execution_count": null,
   "metadata": {
    "collapsed": true
   },
   "outputs": [],
   "source": [
    "plt.pcolor(Map.X,Map.Y,Obs.T)\n",
    "plt.colorbar()\n",
    "x_p=np.array(TableX)\n",
    "y_p=np.array(TableY)\n",
    "plt.plot(x_p, y_p)\n",
    "plt.ylabel('x')\n",
    "plt.xlabel('y')\n",
    "plt.grid(True)\n",
    "plt.ylim((0,2000.0))\n",
    "plt.xlim((0,3000.0))\n",
    "plt.show()"
   ]
  },
  {
   "cell_type": "code",
   "execution_count": null,
   "metadata": {
    "collapsed": true
   },
   "outputs": [],
   "source": []
  }
 ],
 "metadata": {
  "kernelspec": {
   "display_name": "Python 3",
   "language": "python",
   "name": "python3"
  },
  "language_info": {
   "codemirror_mode": {
    "name": "ipython",
    "version": 3
   },
   "file_extension": ".py",
   "mimetype": "text/x-python",
   "name": "python",
   "nbconvert_exporter": "python",
   "pygments_lexer": "ipython3",
   "version": "3.6.3"
  }
 },
 "nbformat": 4,
 "nbformat_minor": 1
}
