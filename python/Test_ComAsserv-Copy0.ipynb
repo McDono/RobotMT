{
 "cells": [
  {
   "cell_type": "code",
   "execution_count": 1,
   "metadata": {},
   "outputs": [],
   "source": [
    "import numpy as np\n",
    "import serial\n",
    "import time\n",
    "import datetime\n",
    "from PortCom import *\n",
    "%matplotlib inline"
   ]
  },
  {
   "cell_type": "markdown",
   "metadata": {},
   "source": [
    "## Déclaration Port Com"
   ]
  },
  {
   "cell_type": "code",
   "execution_count": 2,
   "metadata": {},
   "outputs": [
    {
     "data": {
      "text/plain": [
       "Serial<id=0x14d8e358, open=False>(port='COM16', baudrate=9600, bytesize=8, parity='N', stopbits=1, timeout=None, xonxoff=False, rtscts=False, dsrdtr=False)"
      ]
     },
     "execution_count": 2,
     "metadata": {},
     "output_type": "execute_result"
    }
   ],
   "source": [
    "ser = serial.Serial()\n",
    "ser.baudrate = 9600\n",
    "ser.port = 15# Cable USB UART\n",
    "#ser.port = 13# Module bluetooth\n",
    "ser"
   ]
  },
  {
   "cell_type": "markdown",
   "metadata": {},
   "source": [
    "## Ouverture du Port Com"
   ]
  },
  {
   "cell_type": "code",
   "execution_count": 3,
   "metadata": {},
   "outputs": [
    {
     "name": "stdout",
     "output_type": "stream",
     "text": [
      "Error openning the port!\n"
     ]
    }
   ],
   "source": [
    "try:\n",
    "    ser.open()\n",
    "    print \"Connected to %s\" % ser.port\n",
    "except :\n",
    "    print \"Error openning the port!\"\n",
    "    exit"
   ]
  },
  {
   "cell_type": "markdown",
   "metadata": {},
   "source": [
    "## Asservissement"
   ]
  },
  {
   "cell_type": "code",
   "execution_count": 5,
   "metadata": {},
   "outputs": [],
   "source": [
    "VtsM=\"VtsM 500 500 \\n\""
   ]
  },
  {
   "cell_type": "markdown",
   "metadata": {},
   "source": [
    "### Fonction de tracé temporel :"
   ]
  },
  {
   "cell_type": "code",
   "execution_count": 6,
   "metadata": {},
   "outputs": [],
   "source": [
    "#tps0,y_p0=plotInfoTimeContinu(10,tps=list(), y_p=list())\n",
    "#plt.scatter(tps0,y_p0)"
   ]
  },
  {
   "cell_type": "code",
   "execution_count": null,
   "metadata": {},
   "outputs": [],
   "source": [
    "y_p.append(readFloat(ser,Requet,nbTest=nbTest))\n",
    "\t\ttpsNow=whatTime()-tpsInit + tpsBefore\n",
    "\t\ttps.append(tpsNow)\n",
    "\t\ttime.sleep(dt)\n",
    "\tif TracePlot:\n",
    "\t\tplt.scatter(tps,y_p)\n",
    "\t\tdisplay.clear_output()#wait=True)\n",
    "\t\tdisplay.display(plt.gcf())"
   ]
  },
  {
   "cell_type": "code",
   "execution_count": null,
   "metadata": {},
   "outputs": [],
   "source": []
  },
  {
   "cell_type": "code",
   "execution_count": 6,
   "metadata": {},
   "outputs": [
    {
     "ename": "SerialException",
     "evalue": "Attempting to use a port that is not open",
     "output_type": "error",
     "traceback": [
      "\u001b[1;31m---------------------------------------------------------------------------\u001b[0m\n\u001b[1;31mSerialException\u001b[0m                           Traceback (most recent call last)",
      "\u001b[1;32m<ipython-input-6-1fe45d503e3b>\u001b[0m in \u001b[0;36m<module>\u001b[1;34m()\u001b[0m\n\u001b[1;32m----> 1\u001b[1;33m \u001b[0mser\u001b[0m\u001b[1;33m.\u001b[0m\u001b[0mwrite\u001b[0m\u001b[1;33m(\u001b[0m\u001b[0mVtsM\u001b[0m\u001b[1;33m)\u001b[0m\u001b[1;33m\u001b[0m\u001b[0m\n\u001b[0m\u001b[0;32m      2\u001b[0m \u001b[0mtps0\u001b[0m\u001b[1;33m,\u001b[0m\u001b[0my_p0\u001b[0m\u001b[1;33m=\u001b[0m\u001b[0mplotInfoTime\u001b[0m\u001b[1;33m(\u001b[0m\u001b[0mser\u001b[0m\u001b[1;33m,\u001b[0m \u001b[1;34m\"V1R?\"\u001b[0m\u001b[1;33m,\u001b[0m \u001b[1;36m10\u001b[0m\u001b[1;33m,\u001b[0m\u001b[0mtps\u001b[0m\u001b[1;33m=\u001b[0m\u001b[0mlist\u001b[0m\u001b[1;33m(\u001b[0m\u001b[1;33m)\u001b[0m\u001b[1;33m,\u001b[0m \u001b[0my_p\u001b[0m\u001b[1;33m=\u001b[0m\u001b[0mlist\u001b[0m\u001b[1;33m(\u001b[0m\u001b[1;33m)\u001b[0m\u001b[1;33m)\u001b[0m\u001b[1;33m\u001b[0m\u001b[0m\n\u001b[0;32m      3\u001b[0m \u001b[0mser\u001b[0m\u001b[1;33m.\u001b[0m\u001b[0mwrite\u001b[0m\u001b[1;33m(\u001b[0m\u001b[1;34m\"VtsM 0 0 \\n\"\u001b[0m\u001b[1;33m)\u001b[0m\u001b[1;33m\u001b[0m\u001b[0m\n\u001b[0;32m      4\u001b[0m \u001b[0mtps0\u001b[0m\u001b[1;33m,\u001b[0m\u001b[0my_p0\u001b[0m\u001b[1;33m=\u001b[0m\u001b[0mplotInfoTime\u001b[0m\u001b[1;33m(\u001b[0m\u001b[0mser\u001b[0m\u001b[1;33m,\u001b[0m \u001b[1;34m\"V1R?\"\u001b[0m\u001b[1;33m,\u001b[0m \u001b[1;36m10\u001b[0m\u001b[1;33m,\u001b[0m\u001b[0mtps\u001b[0m\u001b[1;33m=\u001b[0m\u001b[0mtps0\u001b[0m\u001b[1;33m,\u001b[0m\u001b[0my_p\u001b[0m\u001b[1;33m=\u001b[0m\u001b[0my_p0\u001b[0m\u001b[1;33m)\u001b[0m\u001b[1;33m\u001b[0m\u001b[0m\n\u001b[0;32m      5\u001b[0m \u001b[0mplt\u001b[0m\u001b[1;33m.\u001b[0m\u001b[0mscatter\u001b[0m\u001b[1;33m(\u001b[0m\u001b[0mtps0\u001b[0m\u001b[1;33m,\u001b[0m\u001b[0my_p0\u001b[0m\u001b[1;33m)\u001b[0m\u001b[1;33m\u001b[0m\u001b[0m\n",
      "\u001b[1;32mC:\\Anaconda\\lib\\site-packages\\serial\\serialwin32.pyc\u001b[0m in \u001b[0;36mwrite\u001b[1;34m(self, data)\u001b[0m\n\u001b[0;32m    277\u001b[0m     \u001b[1;32mdef\u001b[0m \u001b[0mwrite\u001b[0m\u001b[1;33m(\u001b[0m\u001b[0mself\u001b[0m\u001b[1;33m,\u001b[0m \u001b[0mdata\u001b[0m\u001b[1;33m)\u001b[0m\u001b[1;33m:\u001b[0m\u001b[1;33m\u001b[0m\u001b[0m\n\u001b[0;32m    278\u001b[0m         \u001b[1;34m\"\"\"Output the given string over the serial port.\"\"\"\u001b[0m\u001b[1;33m\u001b[0m\u001b[0m\n\u001b[1;32m--> 279\u001b[1;33m         \u001b[1;32mif\u001b[0m \u001b[1;32mnot\u001b[0m \u001b[0mself\u001b[0m\u001b[1;33m.\u001b[0m\u001b[0mhComPort\u001b[0m\u001b[1;33m:\u001b[0m \u001b[1;32mraise\u001b[0m \u001b[0mportNotOpenError\u001b[0m\u001b[1;33m\u001b[0m\u001b[0m\n\u001b[0m\u001b[0;32m    280\u001b[0m         \u001b[1;31m#~ if not isinstance(data, (bytes, bytearray)):\u001b[0m\u001b[1;33m\u001b[0m\u001b[1;33m\u001b[0m\u001b[0m\n\u001b[0;32m    281\u001b[0m             \u001b[1;31m#~ raise TypeError('expected %s or bytearray, got %s' % (bytes, type(data)))\u001b[0m\u001b[1;33m\u001b[0m\u001b[1;33m\u001b[0m\u001b[0m\n",
      "\u001b[1;31mSerialException\u001b[0m: Attempting to use a port that is not open"
     ]
    }
   ],
   "source": [
    "ser.write(VtsM)\n",
    "tps0,y_p0=plotInfoTime(ser, \"V1R?\", 10,tps=list(), y_p=list())\n",
    "ser.write(\"VtsM 0 0 \\n\")\n",
    "tps0,y_p0=plotInfoTime(ser, \"V1R?\", 10,tps=tps0,y_p=y_p0)\n",
    "plt.scatter(tps0,y_p0)"
   ]
  },
  {
   "cell_type": "markdown",
   "metadata": {},
   "source": [
    "### Modification des parametres d'asservissement"
   ]
  },
  {
   "cell_type": "code",
   "execution_count": 19,
   "metadata": {},
   "outputs": [],
   "source": [
    "Te = 0.004# Période d'échantillonnage\n",
    "KvPure=40.0#Gain du correction de vitesse pour une action proportionnelle pure.\n",
    "KvPID=15.0# Gain du correction de vitesse pour une action PI ou PID.\n",
    "Tiv = 0.1 # Constante de temps de l'action intégrale du correction de vitesse.\n",
    "Tdv = 1.0 # Constante de temps de l'action dérivé du correction de vitesse.\n",
    "Av  = 1.0 # Av\n",
    "KpD = 1.0 # Gain du correction de position sur la vitesse de déplacement\n",
    "KpA = 0.1 # Gain du correction de position sur la vitesse angulaire\n",
    "Tip = 1.0 # Constante de temps de l'action intégrale du correction de position.\n",
    "Tdp = 1.0 # Constante de temps de l'action dérivé du correction de position.\n",
    "Ap  = 1.0 #\n",
    "cor_type_v = 1 # Type de correcteur pour le correction de vitesse.\n",
    "#\u0015 0=>P (fonctionnel)\u0015# 1=>PI (fonctionnel)\u0015# 2=>PID (non fonctionnel)\n",
    "corr_type_p = 0 # Type de correcteur pour le correction de position.\n",
    "#\u0015 0=>P (fonctionnel)\u0015# 1=>PI (non fonctionnel)\u0015# 2=>PID (non fonctionnel)\n",
    "Seuil = 50.0 # Valeur max de l'erreur de vitesse après la-quel le correcteur de vitesse ne prend plus en compte l'action intégrale et/ou dérivé.\n",
    "Acceleration =5.0 # Valeur de l'accélération\n",
    "Rayon_Roue = 38.0 # Rayon de la roue\n",
    "Distance_Roue = 256.0 # Distance entre les roues du robot\n",
    "Rapport_Reduction =28.8 # Rapport de réduction total entre le moteur et la roue.\n",
    "Nb_imp = 500.0 # Nombre d'impulsion du capteur incrémental par tour moteur."
   ]
  },
  {
   "cell_type": "code",
   "execution_count": 23,
   "metadata": {},
   "outputs": [
    {
     "name": "stdout",
     "output_type": "stream",
     "text": [
      "Asserv\t0.004\t40.0\t15.0\t0.1\t1.0\t1.0\t1.0\t0.1\t1.0\t1.0\t1.0\t1\t0\t50.0\t10.0\t38.0\t256.0\t28.8\t500.0 \n",
      "\n"
     ]
    },
    {
     "data": {
      "text/plain": [
       "92L"
      ]
     },
     "execution_count": 23,
     "metadata": {},
     "output_type": "execute_result"
    }
   ],
   "source": [
    "String=\"Asserv\\t%s\\t%s\\t%s\\t%s\\t%s\\t%s\\t%s\\t%s\\t%s\\t%s\\t%s\\t%s\\t%s\\t%s\\t%s\\t%s\\t%s\\t%s\\t%s \\n\" % (Te, KvPure, KvPID, Tiv, Tdv, Av, KpD, KpA, Tip, Tdp, Ap, cor_type_v,\n",
    "corr_type_p, Seuil, 10.0, Rayon_Roue, Distance_Roue, Rapport_Reduction, Nb_imp)\n",
    "print String\n",
    "ser.write(String)"
   ]
  },
  {
   "cell_type": "code",
   "execution_count": 24,
   "metadata": {},
   "outputs": [],
   "source": [
    "ser.write(VtsM)\n",
    "tps1,y_p1=plotInfoTime(\"V1R?\", 1,tps=list(), y_p=list())\n",
    "ser.write(\"VtsM 0 0 \\n\")\n",
    "tps1,y_p1=plotInfoTime(\"V1R?\", 1,tps=tps1,y_p=y_p1)"
   ]
  },
  {
   "cell_type": "code",
   "execution_count": 25,
   "metadata": {},
   "outputs": [
    {
     "data": {
      "text/plain": [
       "[<matplotlib.lines.Line2D at 0x75e62b0>]"
      ]
     },
     "execution_count": 25,
     "metadata": {},
     "output_type": "execute_result"
    },
    {
     "data": {
      "image/png": "[encoded data removed]"
     },
     "metadata": {},
     "output_type": "display_data"
    }
   ],
   "source": [
    "plt.plot(tps0,y_p0,'-ob')\n",
    "plt.plot(tps1,y_p1,'-or')"
   ]
  },
  {
   "cell_type": "code",
   "execution_count": null,
   "metadata": {},
   "outputs": [],
   "source": []
  }
 ],
 "metadata": {
  "kernelspec": {
   "display_name": "Python 3",
   "language": "python",
   "name": "python3"
  },
  "language_info": {
   "codemirror_mode": {
    "name": "ipython",
    "version": 3
   },
   "file_extension": ".py",
   "mimetype": "text/x-python",
   "name": "python",
   "nbconvert_exporter": "python",
   "pygments_lexer": "ipython3",
   "version": "3.6.3"
  }
 },
 "nbformat": 4,
 "nbformat_minor": 1
}
