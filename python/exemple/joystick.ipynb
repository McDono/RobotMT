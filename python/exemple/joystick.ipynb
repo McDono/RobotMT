{
 "cells": [
  {
   "cell_type": "markdown",
   "metadata": {},
   "source": [
    "# Importation des librairies"
   ]
  },
  {
   "cell_type": "code",
   "execution_count": null,
   "metadata": {
    "collapsed": true
   },
   "outputs": [],
   "source": [
    "import pygame\n",
    "from pygame.locals import *\n",
    "import matplotlib.pyplot as plt\n",
    "%matplotlib inline\n",
    "from IPython import display"
   ]
  },
  {
   "cell_type": "code",
   "execution_count": null,
   "metadata": {
    "collapsed": true
   },
   "outputs": [],
   "source": [
    "RotMax=500\n",
    "VtsMax=500\n",
    "nbStep = 5"
   ]
  },
  {
   "cell_type": "code",
   "execution_count": null,
   "metadata": {
    "collapsed": true
   },
   "outputs": [],
   "source": [
    "# initialisation de python game\n",
    "pygame.init()\n",
    "\n",
    "# détermination du nombre de joystick connecté\n",
    "nb_joysticks = pygame.joystick.get_count()\n",
    "if nb_joysticks==0:\n",
    "    print('Pas de Joystick détecté')\n",
    "\n",
    "# récupération du joystick 0\n",
    "mon_joystick = pygame.joystick.Joystick(0)\n",
    "mon_joystick.init()\n",
    "jname= mon_joystick.get_name()\n",
    "#On compte les boutons\n",
    "nb_boutons = mon_joystick.get_numbuttons()\n",
    "# Init de la memoire pour les etats des bouton\n",
    "membstate=list(map(mon_joystick.get_button,range(nb_boutons)))"
   ]
  },
  {
   "cell_type": "code",
   "execution_count": null,
   "metadata": {
    "collapsed": true
   },
   "outputs": [],
   "source": [
    "def seuil(val,valMin):\n",
    "    coef = 1/(1 - valMin)\n",
    "    if val>valMin:\n",
    "        return (val-valMin)*coef\n",
    "    else:\n",
    "        if -val>valMin:\n",
    "            return (val+valMin)*coef\n",
    "        else:\n",
    "            return 0"
   ]
  },
  {
   "cell_type": "code",
   "execution_count": null,
   "metadata": {
    "collapsed": true
   },
   "outputs": [],
   "source": [
    "def refreshVts(fast,ax1):\n",
    "    JoyRotRob= - seuil(mon_joystick.get_axis(0),0.25)*RotMax/fast\n",
    "    JoyVtsRob= - seuil(mon_joystick.get_axis(2),0.1)*VtsMax*fast/nbStep\n",
    "    VtsM1 = int(JoyVtsRob - JoyRotRob/2)\n",
    "    VtsM2 = int(JoyVtsRob + JoyRotRob/2)\n",
    "\n",
    "    display.clear_output(wait=True)\n",
    "    display.display(plt.gcf())\n",
    "    ax1=plt.subplot(111)\n",
    "    ax1.scatter(JoyRotRob,JoyVtsRob)\n",
    "    print(\"VtsM\\t%s\\t%s \\n\" % (VtsM1, VtsM2))"
   ]
  },
  {
   "cell_type": "code",
   "execution_count": null,
   "metadata": {},
   "outputs": [],
   "source": [
    "pygame.event.get()\n",
    "bstate=list(map(mon_joystick.get_button,range(nb_boutons)))\n",
    "ax1=plt.subplot(111)\n",
    "bstate_int=0\n",
    "fast = 1\n",
    "while(bstate_int!=2):\n",
    "    for event in pygame.event.get():\t#Attente des événements\n",
    "        if event.type is JOYAXISMOTION: # événement : Jostick\n",
    "            refreshVts(fast,ax1)\n",
    "            \n",
    "            #mon_joystick.get_axis(0)# joystick gauche : gauche/droite\n",
    "            #mon_joystick.get_axis(1)# joystick gauche : haut/bas\n",
    "            #mon_joystick.get_axis(2)# gachette arrière\n",
    "            #mon_joystick.get_axis(3)# joystick droite : haut/bas\n",
    "            #mon_joystick.get_axis(4)# joystick droite : gauche/droite\n",
    "            \n",
    "            pass\n",
    "        if event.type is 9: # événement : croix directionnelle\n",
    "            print('HAT')\n",
    "        if (event.type is 10) or (event.type is 11): # événement : bouton\n",
    "            #\n",
    "            bstate=list(map(mon_joystick.get_button,range(nb_boutons)))\n",
    "            bstate_int=sum(list(map(lambda b:int(bstate[b])*(2**b),range(nb_boutons))))\n",
    "            \n",
    "            if bstate_int is 1:\n",
    "                print('SLOW')\n",
    "                fast = max(fast-1,1)\n",
    "                refreshVts(fast,ax1)\n",
    "            if bstate_int is 3:\n",
    "                #close\n",
    "                pass\n",
    "            if bstate_int is 4:\n",
    "                print('FAST')\n",
    "                fast= min(fast+1,nbStep)\n",
    "                refreshVts(fast,ax1)\n",
    "print(\"VtsM 0 0 \\n\")"
   ]
  },
  {
   "cell_type": "code",
   "execution_count": null,
   "metadata": {
    "collapsed": true
   },
   "outputs": [],
   "source": []
  },
  {
   "cell_type": "code",
   "execution_count": null,
   "metadata": {
    "collapsed": true
   },
   "outputs": [],
   "source": []
  },
  {
   "cell_type": "code",
   "execution_count": null,
   "metadata": {
    "collapsed": true
   },
   "outputs": [],
   "source": []
  },
  {
   "cell_type": "code",
   "execution_count": null,
   "metadata": {
    "collapsed": true
   },
   "outputs": [],
   "source": [
    "event=pygame.event.get()\n",
    "#recuperation de l'etat des boutons\n",
    "bstate=list(map(mon_joystick.get_button,range(nb_boutons)))\n",
    "# Permet de verifier si un changement d'etat a eu lieu entre 2 boucles\n",
    "bstate_ev=list(map(lambda c,m:c-m,bstate,membstate))\n",
    "# Conversion de bstate en decimal pour detecter les conbinaion de touches\n",
    "bstate_int=sum(list(map(lambda b:int(mon_joystick.get_button(b))*(2**b),range(nb_boutons))))"
   ]
  },
  {
   "cell_type": "code",
   "execution_count": null,
   "metadata": {
    "collapsed": true
   },
   "outputs": [],
   "source": [
    "memhat=[False,False]\n",
    "hat=[False,False]"
   ]
  },
  {
   "cell_type": "code",
   "execution_count": null,
   "metadata": {
    "collapsed": true
   },
   "outputs": [],
   "source": [
    "# Gestion des touche HAUT,BAS,GAUCHE,DROITE du clavier avec\n",
    "# la croix de la manette\n",
    "nb_hats=mon_joystick.get_numhats()\n",
    "if nb_hats>0:   \n",
    "    hat=mon_joystick.get_hat(0)\n",
    "    hat_ev=list(map(lambda hc,hm:hc!=hm,hat,memhat)  )\n",
    "membstate=bstate\n",
    "memhat=self.hat"
   ]
  }
 ],
 "metadata": {
  "kernelspec": {
   "display_name": "Python 3",
   "language": "python",
   "name": "python3"
  },
  "language_info": {
   "codemirror_mode": {
    "name": "ipython",
    "version": 3
   },
   "file_extension": ".py",
   "mimetype": "text/x-python",
   "name": "python",
   "nbconvert_exporter": "python",
   "pygments_lexer": "ipython3",
   "version": "3.6.3"
  }
 },
 "nbformat": 4,
 "nbformat_minor": 1
}
