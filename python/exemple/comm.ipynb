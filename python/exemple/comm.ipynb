{
 "cells": [
  {
   "cell_type": "code",
   "execution_count": null,
   "metadata": {
    "collapsed": true,
    "run_control": {
     "marked": true
    }
   },
   "outputs": [],
   "source": [
    "#Importation des librairies\n",
    "import numpy as np\n",
    "import matplotlib.pyplot as plt\n",
    "import serial\n",
    "%matplotlib inline"
   ]
  },
  {
   "cell_type": "code",
   "execution_count": null,
   "metadata": {
    "run_control": {
     "marked": true
    }
   },
   "outputs": [],
   "source": [
    "# Déclaration Port Com\n",
    "ser = serial.Serial()\n",
    "ser.baudrate = 230400 #57600 #19200 #9600#\n",
    "ser.port = 'COM19'\n",
    "\n",
    "# Ouverture du Port Com\n",
    "try:\n",
    "    ser.open()\n",
    "    print(\"Connected to %s\" % ser.port)\n",
    "except :\n",
    "    print(\"Error openning the port!\")\n",
    "    exit"
   ]
  },
  {
   "cell_type": "markdown",
   "metadata": {},
   "source": [
    "# Resption continu avec séparateur \\r\\n"
   ]
  },
  {
   "cell_type": "code",
   "execution_count": null,
   "metadata": {},
   "outputs": [],
   "source": [
    "nbElem=4 # Nombre d'élement par ligne\n",
    "\n",
    "ser.flushInput()\n",
    "lineList = ser.read(40000).splitlines()[1:-2]\n",
    "chrList = []\n",
    "for line in lineList:\n",
    "    if (len(line)==nbElem):\n",
    "        for chrElem in line:\n",
    "            [lineList[0][0]]\n",
    "            chrList += [chrElem]\n",
    "        \n",
    "toto = np.array(chrList).reshape(int(len(chrList)/nbElem),nbElem)\n",
    "\n",
    "fig, axes = plt.subplots(figsize=(12,8))\n",
    "\n",
    "ax1=plt.subplot(3,1,1)\n",
    "ax2=plt.subplot(3,1,2,sharex=ax1)\n",
    "ax3=plt.subplot(3,1,3,sharex=ax1)\n",
    "\n",
    "ax1.plot(toto[:,0],'o')\n",
    "ax2.plot(toto[:,1],'-',lw=1)\n",
    "ax3.plot(toto[:,2]+ (toto[:,3]* 2**8),'-',lw=1)"
   ]
  },
  {
   "cell_type": "code",
   "execution_count": null,
   "metadata": {
    "collapsed": true
   },
   "outputs": [],
   "source": []
  }
 ],
 "metadata": {
  "kernelspec": {
   "display_name": "Python 3",
   "language": "python",
   "name": "python3"
  },
  "language_info": {
   "codemirror_mode": {
    "name": "ipython",
    "version": 3
   },
   "file_extension": ".py",
   "mimetype": "text/x-python",
   "name": "python",
   "nbconvert_exporter": "python",
   "pygments_lexer": "ipython3",
   "version": "3.6.3"
  }
 },
 "nbformat": 4,
 "nbformat_minor": 1
}
