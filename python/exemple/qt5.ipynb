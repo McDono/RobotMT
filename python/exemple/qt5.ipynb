{
 "cells": [
  {
   "cell_type": "code",
   "execution_count": 1,
   "metadata": {},
   "outputs": [
    {
     "ename": "SystemExit",
     "evalue": "0",
     "output_type": "error",
     "traceback": [
      "An exception has occurred, use %tb to see the full traceback.\n",
      "\u001b[1;31mSystemExit\u001b[0m\u001b[1;31m:\u001b[0m 0\n"
     ]
    },
    {
     "name": "stderr",
     "output_type": "stream",
     "text": [
      "C:\\ProgramData\\Anaconda3\\lib\\site-packages\\IPython\\core\\interactiveshell.py:2870: UserWarning: To exit: use 'exit', 'quit', or Ctrl-D.\n",
      "  warn(\"To exit: use 'exit', 'quit', or Ctrl-D.\", stacklevel=1)\n"
     ]
    }
   ],
   "source": [
    "import sys\n",
    "from PyQt5.QtWidgets import QApplication, QWidget\n",
    "\n",
    "class Fen(QWidget):\n",
    "    def __init__(self):\n",
    "        super().__init__()\n",
    "        self.lanceUI()\n",
    "    def lanceUI(self):\n",
    "        self.resize(500,300)\n",
    "        self.move(500, 500)\n",
    "        self.setWindowTitle(\"Titre de fenêtre\")\n",
    "        self.show()\n",
    "\n",
    "monApp=QApplication(sys.argv)\n",
    "w=Fen()\n",
    "sys.exit(monApp.exec_())"
   ]
  },
  {
   "cell_type": "code",
   "execution_count": 1,
   "metadata": {},
   "outputs": [
    {
     "ename": "SystemExit",
     "evalue": "0",
     "output_type": "error",
     "traceback": [
      "An exception has occurred, use %tb to see the full traceback.\n",
      "\u001b[1;31mSystemExit\u001b[0m\u001b[1;31m:\u001b[0m 0\n"
     ]
    },
    {
     "name": "stderr",
     "output_type": "stream",
     "text": [
      "C:\\ProgramData\\Anaconda3\\lib\\site-packages\\IPython\\core\\interactiveshell.py:2870: UserWarning: To exit: use 'exit', 'quit', or Ctrl-D.\n",
      "  warn(\"To exit: use 'exit', 'quit', or Ctrl-D.\", stacklevel=1)\n"
     ]
    }
   ],
   "source": [
    "import sys\n",
    "from PyQt5.QtWidgets import QMainWindow, QApplication, QAction, qApp, QTextEdit, QPushButton, QHBoxLayout, QWidget, QVBoxLayout,QToolTip, QLineEdit, QLabel, QCheckBox, QComboBox\n",
    "\t\n",
    "class Principale(QMainWindow):\n",
    "\tdef __init__(self):\n",
    "\t\tsuper().__init__()\n",
    "\t\tself.setUI()\n",
    "\t\n",
    "\tdef setUI(self):\n",
    "\t\tzoneTexte=QTextEdit()\n",
    "\t\tbtnOK=QPushButton(\"OK\", self)\n",
    "\t\tzoneLigne=QLineEdit()\n",
    "\t\tlabel=QLabel(\"Champ texte\")\n",
    "\t\tcase=QCheckBox(\"Case\", self)\n",
    "\t\tcombo=QComboBox(self)\n",
    "\t\t\n",
    "\t\tbtnOK.resize(btnOK.sizeHint())\n",
    "\t\tbtnOK.setToolTip(\"Ceci est un bouton <i>OK</i>\")\n",
    "\t\t\n",
    "\t\tcombo.addItem(\"Choix 1\")\n",
    "\t\tcombo.addItem(\"Choix 2\")\n",
    "\t\tcombo.addItem(\"Choix 3\")\n",
    "\t\tcombo.addItem(\"Choix 4\")\n",
    "\t\t\n",
    "\t\thbox=QHBoxLayout()\n",
    "\t\thbox.addStretch(1)\n",
    "\t\thbox.addWidget(label)\n",
    "\t\thbox.addWidget(zoneLigne)\n",
    "\t\thbox.addWidget(zoneTexte)\n",
    "\t\thbox.addWidget(btnOK)\n",
    "\t\thbox.addWidget(case)\n",
    "\t\thbox.addWidget(combo)\n",
    "\t\tvbox=QVBoxLayout()\n",
    "\t\t\n",
    "\t\tw=QWidget()\n",
    "\t\tw.setLayout(hbox)\n",
    "\t\t\n",
    "\t\tself.setCentralWidget(w)\n",
    "\t\t\n",
    "\t\t#Définition des actions\n",
    "\t\texitAction=QAction('&Exit', self)\n",
    "\t\texitAction.setShortcut('Ctrl-Q')\n",
    "\t\texitAction.setStatusTip(\"Quitter l'application\")\n",
    "\t\texitAction.triggered.connect(qApp.exit)\n",
    "\t\t\n",
    "\t\tmenu=self.menuBar()\n",
    "\t\tfichierMenu=menu.addMenu(\"&Fichier\")\n",
    "\t\tfichierMenu.addAction(exitAction)\n",
    "\t\t\n",
    "\t\tself.barreOutils=self.addToolBar('Quitter')\n",
    "\t\tself.barreOutils.addAction(exitAction)\n",
    "\t\t\n",
    "\t\tself.setGeometry(300,300,500,250)\n",
    "\t\tself.setWindowTitle('Fenêtre principale')\n",
    "\t\tself.statusBar().showMessage('Barre de statut')\n",
    "\t\tself.show()\n",
    "\t\n",
    "monApp=QApplication(sys.argv)\n",
    "fenetre=Principale()\n",
    "sys.exit(monApp.exec_())"
   ]
  },
  {
   "cell_type": "code",
   "execution_count": null,
   "metadata": {
    "collapsed": true
   },
   "outputs": [],
   "source": []
  }
 ],
 "metadata": {
  "kernelspec": {
   "display_name": "Python 3",
   "language": "python",
   "name": "python3"
  },
  "language_info": {
   "codemirror_mode": {
    "name": "ipython",
    "version": 3
   },
   "file_extension": ".py",
   "mimetype": "text/x-python",
   "name": "python",
   "nbconvert_exporter": "python",
   "pygments_lexer": "ipython3",
   "version": "3.6.3"
  }
 },
 "nbformat": 4,
 "nbformat_minor": 2
}
