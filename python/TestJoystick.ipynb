{
 "cells": [
  {
   "cell_type": "code",
   "execution_count": 1,
   "metadata": {
    "collapsed": true
   },
   "outputs": [],
   "source": [
    "import serial"
   ]
  },
  {
   "cell_type": "code",
   "execution_count": 2,
   "metadata": {
    "collapsed": false
   },
   "outputs": [
    {
     "name": "stdout",
     "output_type": "stream",
     "text": [
      "Connected to 32\n"
     ]
    }
   ],
   "source": [
    "portMot = serial.Serial()\n",
    "portMot.baudrate = 9600\n",
    "portMot.port = 32# Cable USB UART\n",
    "try:\n",
    "    portMot.open()\n",
    "    print \"Connected to %s\" % portMot.port\n",
    "except :\n",
    "    print \"Error openning the port!\"\n",
    "    exit"
   ]
  },
  {
   "cell_type": "code",
   "execution_count": 3,
   "metadata": {
    "collapsed": true
   },
   "outputs": [],
   "source": [
    "def Seuil(Val):\n",
    "    Seuil=0.08\n",
    "    if Val>=Seuil:\n",
    "        return Val-Seuil\n",
    "    else:\n",
    "        if Val<=-Seuil:\n",
    "            return Val+Seuil\n",
    "        else:\n",
    "            return 0"
   ]
  },
  {
   "cell_type": "code",
   "execution_count": 4,
   "metadata": {
    "collapsed": false
   },
   "outputs": [],
   "source": [
    "RotMax=500\n",
    "VtsMax=500"
   ]
  },
  {
   "cell_type": "code",
   "execution_count": 5,
   "metadata": {
    "collapsed": false
   },
   "outputs": [],
   "source": [
    "import pygame\n",
    "from pygame.locals import *\n",
    "import matplotlib.pyplot as plt\n",
    "%matplotlib inline\n",
    "from IPython import display\n",
    "\n",
    "pygame.init()\n",
    "\n",
    "nb_joysticks = pygame.joystick.get_count()\n",
    "if nb_joysticks==0:\n",
    "    print 'Pas de Joystick détecté'\n",
    "mon_joystick = pygame.joystick.Joystick(0)\n",
    "mon_joystick.init()\n",
    "jname= mon_joystick.get_name()\n",
    "#On compte les boutons\n",
    "nb_boutons = mon_joystick.get_numbuttons()\n",
    "# Init de la memoire pour les etats des bouton\n",
    "membstate=map(mon_joystick.get_button,range(nb_boutons))"
   ]
  },
  {
   "cell_type": "raw",
   "metadata": {},
   "source": [
    "memhat=[False,False]\n",
    "hat=[False,False]"
   ]
  },
  {
   "cell_type": "raw",
   "metadata": {},
   "source": [
    "event=pygame.event.get()\n",
    "#recuperation de l'etat des boutons\n",
    "bstate=map(mon_joystick.get_button,range(nb_boutons))\n",
    "# Permet de verifier si un changement d'etat a eu lieu entre 2 boucles\n",
    "bstate_ev=map(lambda c,m:c-m,bstate,membstate)\n",
    "# Conversion de bstate en decimal pour detecter les conbinaion de touches\n",
    "bstate_int=sum(map(lambda b:int(mon_joystick.get_button(b))*(2**b),range(nb_boutons)))"
   ]
  },
  {
   "cell_type": "code",
   "execution_count": null,
   "metadata": {
    "collapsed": false
   },
   "outputs": [],
   "source": [
    "pygame.event.get()\n",
    "bstate=map(mon_joystick.get_button,range(nb_boutons))\n",
    "while(bstate[1]!=1):\n",
    "    for event in pygame.event.get():\t#Attente des événements\n",
    "        if event.type is JOYAXISMOTION: # événement : Jostick\n",
    "            JoyRotRob= - Seuil(mon_joystick.get_axis(0))*RotMax\n",
    "            JoyVtsRob= - mon_joystick.get_axis(2)*VtsMax\n",
    "            VtsM1 = int(JoyVtsRob - JoyRotRob/2)\n",
    "            VtsM2 = int(JoyVtsRob + JoyRotRob/2)\n",
    "            portMot.write(\"VtsM\\t%s\\t%s \\n\" % (VtsM1, VtsM2))\n",
    "            mon_joystick.get_axis(0)# joystick gauche : gauche/droite\n",
    "            mon_joystick.get_axis(1)# joystick gauche : haut/bas\n",
    "            mon_joystick.get_axis(2)# gachette arrière\n",
    "            mon_joystick.get_axis(3)# joystick droite : haut/bas\n",
    "            mon_joystick.get_axis(4)# joystick droite : gauche/droite\n",
    "            \n",
    "            pass\n",
    "        if event.type is 9: # événement : croix directionnelle\n",
    "            print 'HAT'\n",
    "        if (event.type is 10) or (event.type is 11): # événement : bouton\n",
    "            #recuperation de l'etat des boutons\n",
    "            bstate=map(mon_joystick.get_button,range(nb_boutons))\n",
    "            bstate_int=sum(map(lambda b:int(bstate[b])*(2**b),range(nb_boutons)))\n",
    "            if bstate_int is 1:\n",
    "                #open\n",
    "                pass\n",
    "            if bstate_int is 3:\n",
    "                #close\n",
    "                pass\n",
    "portMot.write(\"VtsM 0 0 \\n\")"
   ]
  },
  {
   "cell_type": "code",
   "execution_count": null,
   "metadata": {
    "collapsed": true
   },
   "outputs": [],
   "source": []
  },
  {
   "cell_type": "code",
   "execution_count": 43,
   "metadata": {
    "collapsed": false
   },
   "outputs": [
    {
     "ename": "NameError",
     "evalue": "name 'self' is not defined",
     "output_type": "error",
     "traceback": [
      "\u001b[1;31m---------------------------------------------------------------------------\u001b[0m",
      "\u001b[1;31mNameError\u001b[0m                                 Traceback (most recent call last)",
      "\u001b[1;32m<ipython-input-43-b3afb86aaaa6>\u001b[0m in \u001b[0;36m<module>\u001b[1;34m()\u001b[0m\n\u001b[0;32m      6\u001b[0m     \u001b[0mhat_ev\u001b[0m\u001b[1;33m=\u001b[0m\u001b[0mmap\u001b[0m\u001b[1;33m(\u001b[0m\u001b[1;32mlambda\u001b[0m \u001b[0mhc\u001b[0m\u001b[1;33m,\u001b[0m\u001b[0mhm\u001b[0m\u001b[1;33m:\u001b[0m\u001b[0mhc\u001b[0m\u001b[1;33m!=\u001b[0m\u001b[0mhm\u001b[0m\u001b[1;33m,\u001b[0m\u001b[0mhat\u001b[0m\u001b[1;33m,\u001b[0m\u001b[0mmemhat\u001b[0m\u001b[1;33m)\u001b[0m\u001b[1;33m\u001b[0m\u001b[0m\n\u001b[0;32m      7\u001b[0m \u001b[0mmembstate\u001b[0m\u001b[1;33m=\u001b[0m\u001b[0mbstate\u001b[0m\u001b[1;33m\u001b[0m\u001b[0m\n\u001b[1;32m----> 8\u001b[1;33m \u001b[0mmemhat\u001b[0m\u001b[1;33m=\u001b[0m\u001b[0mself\u001b[0m\u001b[1;33m.\u001b[0m\u001b[0mhat\u001b[0m\u001b[1;33m\u001b[0m\u001b[0m\n\u001b[0m",
      "\u001b[1;31mNameError\u001b[0m: name 'self' is not defined"
     ]
    }
   ],
   "source": [
    "# Gestion des touche HAUT,BAS,GAUCHE,DROITE du clavier avec\n",
    "# la croix de la manette\n",
    "nb_hats=mon_joystick.get_numhats()\n",
    "if nb_hats>0:   \n",
    "    hat=mon_joystick.get_hat(0)\n",
    "    hat_ev=map(lambda hc,hm:hc!=hm,hat,memhat)  \n",
    "membstate=bstate\n",
    "memhat=self.hat"
   ]
  },
  {
   "cell_type": "code",
   "execution_count": null,
   "metadata": {
    "collapsed": true
   },
   "outputs": [],
   "source": []
  }
 ],
 "metadata": {
  "kernelspec": {
   "display_name": "Python 2",
   "language": "python",
   "name": "python2"
  },
  "language_info": {
   "codemirror_mode": {
    "name": "ipython",
    "version": 2
   },
   "file_extension": ".py",
   "mimetype": "text/x-python",
   "name": "python",
   "nbconvert_exporter": "python",
   "pygments_lexer": "ipython2",
   "version": "2.7.9"
  }
 },
 "nbformat": 4,
 "nbformat_minor": 0
}
